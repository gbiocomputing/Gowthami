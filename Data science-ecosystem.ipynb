{
 "cells": [
  {
   "cell_type": "code",
   "execution_count": null,
   "id": "00111eb4",
   "metadata": {},
   "outputs": [],
   "source": [
    "Data Science Tool and Ecosystem\n",
    "In this notebook, Data Science Tools and Ecosystem are summarized.\n",
    "\n",
    "OBJECTIVES:\n",
    "\n",
    "Data science languages such as python\n",
    "libraries such as pandas\n",
    "Data science tools\n",
    "Some of the popular languages that Data Scientists use are:\n",
    "\n",
    "Python\n",
    "R\n",
    "SQL\n",
    "Some of the commonly used libraries used by Data Scientists include:\n",
    "\n",
    "Numpy\n",
    "Pandas\n",
    "Sci-py\n",
    "matplotlib\n",
    "Seaborn\n",
    "DATA SCIENCE TOOLS\n",
    "tableu\n",
    "powerBI\n",
    "matlab\n"
   ]
  },
  {
   "cell_type": "code",
   "execution_count": null,
   "id": "0b5d4167",
   "metadata": {},
   "outputs": [],
   "source": [
    "# Arithmetic operations\n",
    "code = compile(\"5 + 4\", \"\", \"eval\")\n",
    "eval(code)"
   ]
  },
  {
   "cell_type": "code",
   "execution_count": 1,
   "id": "a33a87a3",
   "metadata": {},
   "outputs": [
    {
     "data": {
      "text/plain": [
       "17"
      ]
     },
     "execution_count": 1,
     "metadata": {},
     "output_type": "execute_result"
    }
   ],
   "source": [
    "(3*4)+5"
   ]
  },
  {
   "cell_type": "code",
   "execution_count": 3,
   "id": "0b65ccdd",
   "metadata": {},
   "outputs": [
    {
     "name": "stdout",
     "output_type": "stream",
     "text": [
      "Enter the first number: 7\n",
      "Enter the second number: 7\n",
      "The product of 7 and 7 is 49\n",
      "The sum of 7 and 7 is 14\n"
     ]
    }
   ],
   "source": [
    " #Take user input for two numbers\n",
    "num1 = int(input(\"Enter the first number: \"))\n",
    "num2 = int(input(\"Enter the second number: \"))\n",
    "\n",
    "# Multiply the two numbers\n",
    "product = num1 * num2\n",
    "\n",
    "# Add the two numbers\n",
    "sum = num1 + num2\n",
    "\n",
    "# Print the results\n",
    "print(\"The product of {} and {} is {}\".format(num1, num2, product))\n",
    "print(\"The sum of {} and {} is {}\".format(num1, num2, sum))"
   ]
  },
  {
   "cell_type": "code",
   "execution_count": 4,
   "id": "8a6a67d3",
   "metadata": {},
   "outputs": [
    {
     "name": "stdout",
     "output_type": "stream",
     "text": [
      "0 days, 3.3333333333333335 hours, 0 mins. \n"
     ]
    }
   ],
   "source": [
    "days = 0\n",
    "hours = 0\n",
    "mins = 0\n",
    "\n",
    "time = 200\n",
    "#days = time / 1440\n",
    "leftover_minutes = time % 1440\n",
    "hours = leftover_minutes / 60\n",
    "#mins = time - (days*1440) - (hours*60)\n",
    "print(str(days) + \" days, \" + str(hours) + \" hours, \" + str(mins) +  \" mins. \")"
   ]
  },
  {
   "cell_type": "markdown",
   "id": "1f1a2992",
   "metadata": {},
   "source": [
    "<h2>Author</h2>\n",
    "Dheena"
   ]
  }
 ],
 "metadata": {
  "kernelspec": {
   "display_name": "Python 3 (ipykernel)",
   "language": "python",
   "name": "python3"
  },
  "language_info": {
   "codemirror_mode": {
    "name": "ipython",
    "version": 3
   },
   "file_extension": ".py",
   "mimetype": "text/x-python",
   "name": "python",
   "nbconvert_exporter": "python",
   "pygments_lexer": "ipython3",
   "version": "3.9.7"
  }
 },
 "nbformat": 4,
 "nbformat_minor": 5
}
