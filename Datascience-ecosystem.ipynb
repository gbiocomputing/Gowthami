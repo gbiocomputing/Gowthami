{
 "cells": [
  {
   "cell_type": "code",
   "execution_count": null,
   "id": "ffc7eda8",
   "metadata": {},
   "outputs": [],
   "source": [
    "Data Science Tool and Ecosystem\n",
    "In this notebook, Data Science Tools and Ecosystem are summarized.\n",
    "\n",
    "OBJECTIVES:\n",
    "\n",
    "Data science languages such as python\n",
    "libraries such as pandas\n",
    "Data science tools\n",
    "Some of the popular languages that Data Scientists use are:\n",
    "\n",
    "Python\n",
    "R\n",
    "SQL\n",
    "Some of the commonly used libraries used by Data Scientists include:\n",
    "\n",
    "Numpy\n",
    "Pandas\n",
    "Sci-py\n",
    "matplotlib\n",
    "Seaborn\n",
    "DATA SCIENCE TOOLS\n",
    "tableu\n",
    "powerBI\n",
    "matlab\n",
    "\n",
    "Below are a few examples of evaluating arithmetic expressions in Python"
   ]
  },
  {
   "cell_type": "code",
   "execution_count": null,
   "id": "833dcec4",
   "metadata": {},
   "outputs": [],
   "source": [
    "# Arithmetic operations\n",
    "code = compile(\"5 + 4\", \"<string>\", \"eval\")\n",
    "eval(code)"
   ]
  },
  {
   "cell_type": "code",
   "execution_count": 5,
   "id": "1025cc62",
   "metadata": {},
   "outputs": [
    {
     "data": {
      "text/plain": [
       "17"
      ]
     },
     "execution_count": 5,
     "metadata": {},
     "output_type": "execute_result"
    }
   ],
   "source": [
    "(3*4)+5"
   ]
  },
  {
   "cell_type": "code",
   "execution_count": null,
   "id": "9170ccf5",
   "metadata": {},
   "outputs": [],
   "source": [
    " #Take user input for two numbers\n",
    "num1 = int(input(\"Enter the first number: \"))\n",
    "num2 = int(input(\"Enter the second number: \"))\n",
    "\n",
    "# Multiply the two numbers\n",
    "product = num1 * num2\n",
    "\n",
    "# Add the two numbers\n",
    "sum = num1 + num2\n",
    "\n",
    "# Print the results\n",
    "print(\"The product of {} and {} is {}\".format(num1, num2, product))\n",
    "print(\"The sum of {} and {} is {}\".format(num1, num2, sum))"
   ]
  },
  {
   "cell_type": "code",
   "execution_count": 6,
   "id": "98417692",
   "metadata": {},
   "outputs": [
    {
     "name": "stdout",
     "output_type": "stream",
     "text": [
      "0 days, 3.3333333333333335 hours, 0 mins. \n"
     ]
    }
   ],
   "source": [
    "days = 0\n",
    "hours = 0\n",
    "mins = 0\n",
    "\n",
    "time = 200\n",
    "#days = time / 1440\n",
    "leftover_minutes = time % 1440\n",
    "hours = leftover_minutes / 60\n",
    "#mins = time - (days*1440) - (hours*60)\n",
    "print(str(days) + \" days, \" + str(hours) + \" hours, \" + str(mins) +  \" mins. \")"
   ]
  },
  {
   "cell_type": "markdown",
   "id": "5ade47ec",
   "metadata": {},
   "source": [
    "<h2>Author</h2>\n",
    "Gowthami"
   ]
  },
  {
   "cell_type": "code",
   "execution_count": null,
   "id": "eca52bf6",
   "metadata": {},
   "outputs": [],
   "source": []
  }
 ],
 "metadata": {
  "kernelspec": {
   "display_name": "Python 3",
   "language": "python",
   "name": "python3"
  }
 },
 "nbformat": 4,
 "nbformat_minor": 5
}
